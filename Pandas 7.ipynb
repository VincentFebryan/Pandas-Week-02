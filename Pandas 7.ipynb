{
 "cells": [
  {
   "cell_type": "code",
   "execution_count": 2,
   "id": "b4990bbe",
   "metadata": {},
   "outputs": [
    {
     "name": "stdout",
     "output_type": "stream",
     "text": [
      "1.3.4\n"
     ]
    }
   ],
   "source": [
    "import pandas as pd\n",
    "\n",
    "print(pd.__version__)"
   ]
  },
  {
   "cell_type": "code",
   "execution_count": 4,
   "id": "7fdcf65d",
   "metadata": {},
   "outputs": [
    {
     "data": {
      "text/html": [
       "<div>\n",
       "<style scoped>\n",
       "    .dataframe tbody tr th:only-of-type {\n",
       "        vertical-align: middle;\n",
       "    }\n",
       "\n",
       "    .dataframe tbody tr th {\n",
       "        vertical-align: top;\n",
       "    }\n",
       "\n",
       "    .dataframe thead th {\n",
       "        text-align: right;\n",
       "    }\n",
       "</style>\n",
       "<table border=\"1\" class=\"dataframe\">\n",
       "  <thead>\n",
       "    <tr style=\"text-align: right;\">\n",
       "      <th></th>\n",
       "      <th>index</th>\n",
       "      <th>A</th>\n",
       "      <th>B</th>\n",
       "      <th>C</th>\n",
       "      <th>D</th>\n",
       "    </tr>\n",
       "  </thead>\n",
       "  <tbody>\n",
       "    <tr>\n",
       "      <th>0</th>\n",
       "      <td>3W7niWlTDQ</td>\n",
       "      <td>0.628101</td>\n",
       "      <td>-0.149001</td>\n",
       "      <td>1.137177</td>\n",
       "      <td>0.084681</td>\n",
       "    </tr>\n",
       "    <tr>\n",
       "      <th>1</th>\n",
       "      <td>uLUcC0xGpW</td>\n",
       "      <td>0.233633</td>\n",
       "      <td>-1.278052</td>\n",
       "      <td>-0.227824</td>\n",
       "      <td>0.331537</td>\n",
       "    </tr>\n",
       "    <tr>\n",
       "      <th>2</th>\n",
       "      <td>tTiFVOtd6F</td>\n",
       "      <td>2.259427</td>\n",
       "      <td>1.422048</td>\n",
       "      <td>-1.021779</td>\n",
       "      <td>0.189008</td>\n",
       "    </tr>\n",
       "    <tr>\n",
       "      <th>3</th>\n",
       "      <td>wQbf1Q4scl</td>\n",
       "      <td>0.892578</td>\n",
       "      <td>1.057011</td>\n",
       "      <td>-0.840128</td>\n",
       "      <td>-0.453658</td>\n",
       "    </tr>\n",
       "    <tr>\n",
       "      <th>4</th>\n",
       "      <td>oqef5otBAF</td>\n",
       "      <td>0.807874</td>\n",
       "      <td>-0.364499</td>\n",
       "      <td>-2.123130</td>\n",
       "      <td>0.725608</td>\n",
       "    </tr>\n",
       "  </tbody>\n",
       "</table>\n",
       "</div>"
      ],
      "text/plain": [
       "        index         A         B         C         D\n",
       "0  3W7niWlTDQ  0.628101 -0.149001  1.137177  0.084681\n",
       "1  uLUcC0xGpW  0.233633 -1.278052 -0.227824  0.331537\n",
       "2  tTiFVOtd6F  2.259427  1.422048 -1.021779  0.189008\n",
       "3  wQbf1Q4scl  0.892578  1.057011 -0.840128 -0.453658\n",
       "4  oqef5otBAF  0.807874 -0.364499 -2.123130  0.725608"
      ]
     },
     "execution_count": 4,
     "metadata": {},
     "output_type": "execute_result"
    }
   ],
   "source": [
    "df = pd.util.testing.makeMissingDataframe().reset_index()\n",
    "df.head()"
   ]
  },
  {
   "cell_type": "code",
   "execution_count": 5,
   "id": "b625aaeb",
   "metadata": {},
   "outputs": [
    {
     "data": {
      "text/html": [
       "<div>\n",
       "<style scoped>\n",
       "    .dataframe tbody tr th:only-of-type {\n",
       "        vertical-align: middle;\n",
       "    }\n",
       "\n",
       "    .dataframe tbody tr th {\n",
       "        vertical-align: top;\n",
       "    }\n",
       "\n",
       "    .dataframe thead th {\n",
       "        text-align: right;\n",
       "    }\n",
       "</style>\n",
       "<table border=\"1\" class=\"dataframe\">\n",
       "  <thead>\n",
       "    <tr style=\"text-align: right;\">\n",
       "      <th></th>\n",
       "      <th>Z</th>\n",
       "      <th>A</th>\n",
       "      <th>B</th>\n",
       "      <th>C</th>\n",
       "      <th>D</th>\n",
       "    </tr>\n",
       "  </thead>\n",
       "  <tbody>\n",
       "    <tr>\n",
       "      <th>0</th>\n",
       "      <td>3W7niWlTDQ</td>\n",
       "      <td>0.628101</td>\n",
       "      <td>-0.149001</td>\n",
       "      <td>1.137177</td>\n",
       "      <td>0.084681</td>\n",
       "    </tr>\n",
       "    <tr>\n",
       "      <th>1</th>\n",
       "      <td>uLUcC0xGpW</td>\n",
       "      <td>0.233633</td>\n",
       "      <td>-1.278052</td>\n",
       "      <td>-0.227824</td>\n",
       "      <td>0.331537</td>\n",
       "    </tr>\n",
       "    <tr>\n",
       "      <th>2</th>\n",
       "      <td>tTiFVOtd6F</td>\n",
       "      <td>2.259427</td>\n",
       "      <td>1.422048</td>\n",
       "      <td>-1.021779</td>\n",
       "      <td>0.189008</td>\n",
       "    </tr>\n",
       "    <tr>\n",
       "      <th>3</th>\n",
       "      <td>wQbf1Q4scl</td>\n",
       "      <td>0.892578</td>\n",
       "      <td>1.057011</td>\n",
       "      <td>-0.840128</td>\n",
       "      <td>-0.453658</td>\n",
       "    </tr>\n",
       "    <tr>\n",
       "      <th>4</th>\n",
       "      <td>oqef5otBAF</td>\n",
       "      <td>0.807874</td>\n",
       "      <td>-0.364499</td>\n",
       "      <td>-2.123130</td>\n",
       "      <td>0.725608</td>\n",
       "    </tr>\n",
       "  </tbody>\n",
       "</table>\n",
       "</div>"
      ],
      "text/plain": [
       "            Z         A         B         C         D\n",
       "0  3W7niWlTDQ  0.628101 -0.149001  1.137177  0.084681\n",
       "1  uLUcC0xGpW  0.233633 -1.278052 -0.227824  0.331537\n",
       "2  tTiFVOtd6F  2.259427  1.422048 -1.021779  0.189008\n",
       "3  wQbf1Q4scl  0.892578  1.057011 -0.840128 -0.453658\n",
       "4  oqef5otBAF  0.807874 -0.364499 -2.123130  0.725608"
      ]
     },
     "execution_count": 5,
     "metadata": {},
     "output_type": "execute_result"
    }
   ],
   "source": [
    "df = df.rename(columns={'index':'Z'})\n",
    "df.head()"
   ]
  },
  {
   "cell_type": "code",
   "execution_count": 6,
   "id": "99598beb",
   "metadata": {},
   "outputs": [],
   "source": [
    "df_backup = df.copy(deep=True)"
   ]
  },
  {
   "cell_type": "code",
   "execution_count": 7,
   "id": "a3b50ac7",
   "metadata": {},
   "outputs": [
    {
     "data": {
      "text/html": [
       "<div>\n",
       "<style scoped>\n",
       "    .dataframe tbody tr th:only-of-type {\n",
       "        vertical-align: middle;\n",
       "    }\n",
       "\n",
       "    .dataframe tbody tr th {\n",
       "        vertical-align: top;\n",
       "    }\n",
       "\n",
       "    .dataframe thead th {\n",
       "        text-align: right;\n",
       "    }\n",
       "</style>\n",
       "<table border=\"1\" class=\"dataframe\">\n",
       "  <thead>\n",
       "    <tr style=\"text-align: right;\">\n",
       "      <th></th>\n",
       "      <th>Z</th>\n",
       "    </tr>\n",
       "  </thead>\n",
       "  <tbody>\n",
       "    <tr>\n",
       "      <th>0</th>\n",
       "      <td>3W7niWlTDQ</td>\n",
       "    </tr>\n",
       "    <tr>\n",
       "      <th>1</th>\n",
       "      <td>uLUcC0xGpW</td>\n",
       "    </tr>\n",
       "    <tr>\n",
       "      <th>2</th>\n",
       "      <td>tTiFVOtd6F</td>\n",
       "    </tr>\n",
       "    <tr>\n",
       "      <th>3</th>\n",
       "      <td>wQbf1Q4scl</td>\n",
       "    </tr>\n",
       "    <tr>\n",
       "      <th>4</th>\n",
       "      <td>oqef5otBAF</td>\n",
       "    </tr>\n",
       "  </tbody>\n",
       "</table>\n",
       "</div>"
      ],
      "text/plain": [
       "            Z\n",
       "0  3W7niWlTDQ\n",
       "1  uLUcC0xGpW\n",
       "2  tTiFVOtd6F\n",
       "3  wQbf1Q4scl\n",
       "4  oqef5otBAF"
      ]
     },
     "execution_count": 7,
     "metadata": {},
     "output_type": "execute_result"
    }
   ],
   "source": [
    "df = df.dropna(axis='columns')\n",
    "df.head()"
   ]
  },
  {
   "cell_type": "code",
   "execution_count": 8,
   "id": "786124b3",
   "metadata": {},
   "outputs": [
    {
     "data": {
      "text/html": [
       "<div>\n",
       "<style scoped>\n",
       "    .dataframe tbody tr th:only-of-type {\n",
       "        vertical-align: middle;\n",
       "    }\n",
       "\n",
       "    .dataframe tbody tr th {\n",
       "        vertical-align: top;\n",
       "    }\n",
       "\n",
       "    .dataframe thead th {\n",
       "        text-align: right;\n",
       "    }\n",
       "</style>\n",
       "<table border=\"1\" class=\"dataframe\">\n",
       "  <thead>\n",
       "    <tr style=\"text-align: right;\">\n",
       "      <th></th>\n",
       "      <th>Z</th>\n",
       "      <th>A</th>\n",
       "      <th>B</th>\n",
       "      <th>C</th>\n",
       "      <th>D</th>\n",
       "    </tr>\n",
       "  </thead>\n",
       "  <tbody>\n",
       "    <tr>\n",
       "      <th>0</th>\n",
       "      <td>3W7niWlTDQ</td>\n",
       "      <td>0.628101</td>\n",
       "      <td>-0.149001</td>\n",
       "      <td>1.137177</td>\n",
       "      <td>0.084681</td>\n",
       "    </tr>\n",
       "    <tr>\n",
       "      <th>1</th>\n",
       "      <td>uLUcC0xGpW</td>\n",
       "      <td>0.233633</td>\n",
       "      <td>-1.278052</td>\n",
       "      <td>-0.227824</td>\n",
       "      <td>0.331537</td>\n",
       "    </tr>\n",
       "    <tr>\n",
       "      <th>2</th>\n",
       "      <td>tTiFVOtd6F</td>\n",
       "      <td>2.259427</td>\n",
       "      <td>1.422048</td>\n",
       "      <td>-1.021779</td>\n",
       "      <td>0.189008</td>\n",
       "    </tr>\n",
       "    <tr>\n",
       "      <th>3</th>\n",
       "      <td>wQbf1Q4scl</td>\n",
       "      <td>0.892578</td>\n",
       "      <td>1.057011</td>\n",
       "      <td>-0.840128</td>\n",
       "      <td>-0.453658</td>\n",
       "    </tr>\n",
       "    <tr>\n",
       "      <th>4</th>\n",
       "      <td>oqef5otBAF</td>\n",
       "      <td>0.807874</td>\n",
       "      <td>-0.364499</td>\n",
       "      <td>-2.123130</td>\n",
       "      <td>0.725608</td>\n",
       "    </tr>\n",
       "  </tbody>\n",
       "</table>\n",
       "</div>"
      ],
      "text/plain": [
       "            Z         A         B         C         D\n",
       "0  3W7niWlTDQ  0.628101 -0.149001  1.137177  0.084681\n",
       "1  uLUcC0xGpW  0.233633 -1.278052 -0.227824  0.331537\n",
       "2  tTiFVOtd6F  2.259427  1.422048 -1.021779  0.189008\n",
       "3  wQbf1Q4scl  0.892578  1.057011 -0.840128 -0.453658\n",
       "4  oqef5otBAF  0.807874 -0.364499 -2.123130  0.725608"
      ]
     },
     "execution_count": 8,
     "metadata": {},
     "output_type": "execute_result"
    }
   ],
   "source": [
    "df = df_backup.copy(deep=True)\n",
    "df = df.dropna(axis='rows')\n",
    "df.head()"
   ]
  },
  {
   "cell_type": "code",
   "execution_count": 9,
   "id": "b7710232",
   "metadata": {},
   "outputs": [
    {
     "data": {
      "text/plain": [
       "Z    0.000000\n",
       "A    0.166667\n",
       "B    0.033333\n",
       "C    0.100000\n",
       "D    0.100000\n",
       "dtype: float64"
      ]
     },
     "execution_count": 9,
     "metadata": {},
     "output_type": "execute_result"
    }
   ],
   "source": [
    "df = df_backup.copy(deep=True)\n",
    "df.isna().mean()"
   ]
  },
  {
   "cell_type": "code",
   "execution_count": 10,
   "id": "4fd3ff71",
   "metadata": {},
   "outputs": [
    {
     "data": {
      "text/html": [
       "<div>\n",
       "<style scoped>\n",
       "    .dataframe tbody tr th:only-of-type {\n",
       "        vertical-align: middle;\n",
       "    }\n",
       "\n",
       "    .dataframe tbody tr th {\n",
       "        vertical-align: top;\n",
       "    }\n",
       "\n",
       "    .dataframe thead th {\n",
       "        text-align: right;\n",
       "    }\n",
       "</style>\n",
       "<table border=\"1\" class=\"dataframe\">\n",
       "  <thead>\n",
       "    <tr style=\"text-align: right;\">\n",
       "      <th></th>\n",
       "      <th>Z</th>\n",
       "      <th>B</th>\n",
       "      <th>C</th>\n",
       "      <th>D</th>\n",
       "    </tr>\n",
       "  </thead>\n",
       "  <tbody>\n",
       "    <tr>\n",
       "      <th>0</th>\n",
       "      <td>3W7niWlTDQ</td>\n",
       "      <td>-0.149001</td>\n",
       "      <td>1.137177</td>\n",
       "      <td>0.084681</td>\n",
       "    </tr>\n",
       "    <tr>\n",
       "      <th>1</th>\n",
       "      <td>uLUcC0xGpW</td>\n",
       "      <td>-1.278052</td>\n",
       "      <td>-0.227824</td>\n",
       "      <td>0.331537</td>\n",
       "    </tr>\n",
       "    <tr>\n",
       "      <th>2</th>\n",
       "      <td>tTiFVOtd6F</td>\n",
       "      <td>1.422048</td>\n",
       "      <td>-1.021779</td>\n",
       "      <td>0.189008</td>\n",
       "    </tr>\n",
       "    <tr>\n",
       "      <th>3</th>\n",
       "      <td>wQbf1Q4scl</td>\n",
       "      <td>1.057011</td>\n",
       "      <td>-0.840128</td>\n",
       "      <td>-0.453658</td>\n",
       "    </tr>\n",
       "    <tr>\n",
       "      <th>4</th>\n",
       "      <td>oqef5otBAF</td>\n",
       "      <td>-0.364499</td>\n",
       "      <td>-2.123130</td>\n",
       "      <td>0.725608</td>\n",
       "    </tr>\n",
       "  </tbody>\n",
       "</table>\n",
       "</div>"
      ],
      "text/plain": [
       "            Z         B         C         D\n",
       "0  3W7niWlTDQ -0.149001  1.137177  0.084681\n",
       "1  uLUcC0xGpW -1.278052 -0.227824  0.331537\n",
       "2  tTiFVOtd6F  1.422048 -1.021779  0.189008\n",
       "3  wQbf1Q4scl  1.057011 -0.840128 -0.453658\n",
       "4  oqef5otBAF -0.364499 -2.123130  0.725608"
      ]
     },
     "execution_count": 10,
     "metadata": {},
     "output_type": "execute_result"
    }
   ],
   "source": [
    "treshold = len(df) *0.9\n",
    "df = df.dropna(thresh=treshold,axis='columns')\n",
    "df.head()"
   ]
  },
  {
   "cell_type": "code",
   "execution_count": null,
   "id": "d6de7195",
   "metadata": {},
   "outputs": [],
   "source": []
  }
 ],
 "metadata": {
  "kernelspec": {
   "display_name": "Python 3 (ipykernel)",
   "language": "python",
   "name": "python3"
  },
  "language_info": {
   "codemirror_mode": {
    "name": "ipython",
    "version": 3
   },
   "file_extension": ".py",
   "mimetype": "text/x-python",
   "name": "python",
   "nbconvert_exporter": "python",
   "pygments_lexer": "ipython3",
   "version": "3.9.7"
  }
 },
 "nbformat": 4,
 "nbformat_minor": 5
}
